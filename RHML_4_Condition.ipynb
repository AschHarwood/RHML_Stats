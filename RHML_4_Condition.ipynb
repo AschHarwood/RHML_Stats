{
 "cells": [
  {
   "cell_type": "code",
   "execution_count": 2,
   "metadata": {},
   "outputs": [],
   "source": [
    "import pandas as pd"
   ]
  },
  {
   "cell_type": "code",
   "execution_count": 3,
   "metadata": {},
   "outputs": [],
   "source": [
    "pd.set_option('display.max_columns', 500)"
   ]
  },
  {
   "cell_type": "code",
   "execution_count": 4,
   "metadata": {},
   "outputs": [],
   "source": [
    "df = pd.read_csv('rhml_4_conditions.csv', header=[1], skiprows=[2])"
   ]
  },
  {
   "cell_type": "code",
   "execution_count": 5,
   "metadata": {},
   "outputs": [],
   "source": [
    "df = df.loc[:,'How many different people we featured in the previous video?': 'Condition']"
   ]
  },
  {
   "cell_type": "code",
   "execution_count": 13,
   "metadata": {},
   "outputs": [
    {
     "data": {
      "text/plain": [
       "1128"
      ]
     },
     "execution_count": 13,
     "metadata": {},
     "output_type": "execute_result"
    }
   ],
   "source": [
    "len(df)"
   ]
  },
  {
   "cell_type": "markdown",
   "metadata": {},
   "source": [
    "All Respondents"
   ]
  },
  {
   "cell_type": "code",
   "execution_count": 6,
   "metadata": {},
   "outputs": [],
   "source": [
    "conditions = df.groupby('Condition')['Do you intend to vote in the midterm elections on November 6, 2018?'].value_counts()"
   ]
  },
  {
   "cell_type": "code",
   "execution_count": 11,
   "metadata": {},
   "outputs": [
    {
     "data": {
      "text/plain": [
       "Condition  Do you intend to vote in the midterm elections on November 6, 2018?\n",
       "1.0        Yes                                                                    274\n",
       "           Maybe                                                                   41\n",
       "           No                                                                      35\n",
       "2.0        Yes                                                                    248\n",
       "           Maybe                                                                   50\n",
       "           No                                                                      45\n",
       "3.0        Yes                                                                    293\n",
       "           Maybe                                                                   42\n",
       "           No                                                                      40\n",
       "Name: Do you intend to vote in the midterm elections on November 6, 2018?, dtype: int64"
      ]
     },
     "execution_count": 11,
     "metadata": {},
     "output_type": "execute_result"
    }
   ],
   "source": [
    "#1 = vid_1\n",
    "#2 = vid_2\n",
    "#3 = control\n",
    "conditions"
   ]
  },
  {
   "cell_type": "code",
   "execution_count": 20,
   "metadata": {},
   "outputs": [],
   "source": [
    "from scipy import stats\n",
    "import numpy as np"
   ]
  },
  {
   "cell_type": "code",
   "execution_count": 21,
   "metadata": {},
   "outputs": [],
   "source": [
    "voted = np.array([conditions[1].values, conditions[2].values, conditions[3].values])"
   ]
  },
  {
   "cell_type": "code",
   "execution_count": 22,
   "metadata": {},
   "outputs": [
    {
     "data": {
      "text/plain": [
       "array([[274,  41,  35],\n",
       "       [248,  50,  45],\n",
       "       [293,  42,  40]])"
      ]
     },
     "execution_count": 22,
     "metadata": {},
     "output_type": "execute_result"
    }
   ],
   "source": [
    "voted"
   ]
  },
  {
   "cell_type": "code",
   "execution_count": 24,
   "metadata": {},
   "outputs": [
    {
     "data": {
      "text/plain": [
       "(4.600099371055482,\n",
       " 0.330842727194939,\n",
       " 4,\n",
       " array([[267.08801498,  43.58614232,  39.3258427 ],\n",
       "        [261.74625468,  42.71441948,  38.53932584],\n",
       "        [286.16573034,  46.6994382 ,  42.13483146]]))"
      ]
     },
     "execution_count": 24,
     "metadata": {},
     "output_type": "execute_result"
    }
   ],
   "source": [
    "stats.chi2_contingency(voted)"
   ]
  },
  {
   "cell_type": "code",
   "execution_count": 25,
   "metadata": {},
   "outputs": [],
   "source": [
    "voted_2 = np.array([[315,35], [298, 45], [335, 40]])"
   ]
  },
  {
   "cell_type": "code",
   "execution_count": 27,
   "metadata": {},
   "outputs": [
    {
     "data": {
      "text/plain": [
       "(1.8780860119816458,\n",
       " 0.3910018427896683,\n",
       " 2,\n",
       " array([[310.6741573 ,  39.3258427 ],\n",
       "        [304.46067416,  38.53932584],\n",
       "        [332.86516854,  42.13483146]]))"
      ]
     },
     "execution_count": 27,
     "metadata": {},
     "output_type": "execute_result"
    }
   ],
   "source": [
    "stats.chi2_contingency(voted_2)"
   ]
  },
  {
   "cell_type": "markdown",
   "metadata": {},
   "source": [
    "34 and under"
   ]
  },
  {
   "cell_type": "code",
   "execution_count": 33,
   "metadata": {},
   "outputs": [],
   "source": [
    "under_34 = df[df['How old are you in years?']<=34.0]"
   ]
  },
  {
   "cell_type": "code",
   "execution_count": null,
   "metadata": {},
   "outputs": [],
   "source": []
  },
  {
   "cell_type": "code",
   "execution_count": 36,
   "metadata": {},
   "outputs": [],
   "source": [
    "condition_34 = under_34.groupby('Condition')['Do you intend to vote in the midterm elections on November 6, 2018?'].value_counts()"
   ]
  },
  {
   "cell_type": "code",
   "execution_count": 37,
   "metadata": {},
   "outputs": [],
   "source": [
    "voted_34 = np.array([condition_34[1].values, condition_34[2].values, condition_34[3].values])"
   ]
  },
  {
   "cell_type": "code",
   "execution_count": 38,
   "metadata": {},
   "outputs": [
    {
     "data": {
      "text/plain": [
       "(4.4292394524021255,\n",
       " 0.35102049860879436,\n",
       " 4,\n",
       " array([[132.74270073,  29.34671533,  24.91058394],\n",
       "        [124.22445255,  27.46350365,  23.3120438 ],\n",
       "        [132.03284672,  29.18978102,  24.77737226]]))"
      ]
     },
     "execution_count": 38,
     "metadata": {},
     "output_type": "execute_result"
    }
   ],
   "source": [
    "stats.chi2_contingency(voted_34)"
   ]
  },
  {
   "cell_type": "markdown",
   "metadata": {},
   "source": [
    "25 and under"
   ]
  },
  {
   "cell_type": "code",
   "execution_count": 39,
   "metadata": {},
   "outputs": [],
   "source": [
    "under_25 = df[df['How old are you in years?']<=25.0]"
   ]
  },
  {
   "cell_type": "code",
   "execution_count": 40,
   "metadata": {},
   "outputs": [],
   "source": [
    "condition_25 = under_25.groupby('Condition')['Do you intend to vote in the midterm elections on November 6, 2018?'].value_counts()"
   ]
  },
  {
   "cell_type": "code",
   "execution_count": 43,
   "metadata": {},
   "outputs": [],
   "source": [
    "voted_25 = np.array([condition_25[1].values, condition_25[2].values, condition_25[3].values])"
   ]
  },
  {
   "cell_type": "code",
   "execution_count": 44,
   "metadata": {},
   "outputs": [
    {
     "data": {
      "text/plain": [
       "(6.498075511934557,\n",
       " 0.1649116819941333,\n",
       " 4,\n",
       " array([[37.00591716, 12.56804734,  9.4260355 ],\n",
       "        [38.26035503, 12.99408284,  9.74556213],\n",
       "        [30.73372781, 10.43786982,  7.82840237]]))"
      ]
     },
     "execution_count": 44,
     "metadata": {},
     "output_type": "execute_result"
    }
   ],
   "source": [
    "stats.chi2_contingency(voted_25)"
   ]
  },
  {
   "cell_type": "code",
   "execution_count": null,
   "metadata": {},
   "outputs": [],
   "source": []
  },
  {
   "cell_type": "markdown",
   "metadata": {},
   "source": [
    "Registered Voters Only"
   ]
  },
  {
   "cell_type": "code",
   "execution_count": 49,
   "metadata": {},
   "outputs": [
    {
     "data": {
      "text/plain": [
       "966"
      ]
     },
     "execution_count": 49,
     "metadata": {},
     "output_type": "execute_result"
    }
   ],
   "source": [
    "len(registered)"
   ]
  },
  {
   "cell_type": "code",
   "execution_count": 70,
   "metadata": {},
   "outputs": [
    {
     "data": {
      "text/plain": [
       "array([[273,  33,  14],\n",
       "       [245,  42,  13],\n",
       "       [292,  40,  14]])"
      ]
     },
     "execution_count": 70,
     "metadata": {},
     "output_type": "execute_result"
    }
   ],
   "source": [
    "registered = df[df['Are you a registered voter?']=='Yes']\n",
    "conditions = registered.groupby('Condition')['Do you intend to vote in the midterm elections on November 6, 2018?'].value_counts()\n",
    "voted = np.array([conditions[1].values, conditions[2].values, conditions[3].values])\n",
    "voted"
   ]
  },
  {
   "cell_type": "code",
   "execution_count": 71,
   "metadata": {},
   "outputs": [
    {
     "data": {
      "text/plain": [
       "(2.13698793911751,\n",
       " 0.7105804000621784,\n",
       " 4,\n",
       " array([[268.32298137,  38.0952381 ,  13.58178054],\n",
       "        [251.55279503,  35.71428571,  12.73291925],\n",
       "        [290.1242236 ,  41.19047619,  14.68530021]]))"
      ]
     },
     "execution_count": 71,
     "metadata": {},
     "output_type": "execute_result"
    }
   ],
   "source": [
    "stats.chi2_contingency(voted)"
   ]
  },
  {
   "cell_type": "markdown",
   "metadata": {},
   "source": [
    "Registered Voters 34 and Under"
   ]
  },
  {
   "cell_type": "code",
   "execution_count": 72,
   "metadata": {},
   "outputs": [
    {
     "data": {
      "text/plain": [
       "array([[137,  22,  10],\n",
       "       [112,  24,  11],\n",
       "       [136,  25,   8]])"
      ]
     },
     "execution_count": 72,
     "metadata": {},
     "output_type": "execute_result"
    }
   ],
   "source": [
    "registered = df[df['Are you a registered voter?']=='Yes']\n",
    "registered = registered[registered['How old are you in years?']<=34.0]\n",
    "conditions = registered.groupby('Condition')['Do you intend to vote in the midterm elections on November 6, 2018?'].value_counts()\n",
    "voted = np.array([conditions[1].values, conditions[2].values, conditions[3].values])\n",
    "voted"
   ]
  },
  {
   "cell_type": "code",
   "execution_count": 73,
   "metadata": {},
   "outputs": [
    {
     "data": {
      "text/plain": [
       "(1.8618888809902252,\n",
       " 0.7611421005324522,\n",
       " 4,\n",
       " array([[134.15463918,  24.74020619,  10.10515464],\n",
       "        [116.69072165,  21.51958763,   8.78969072],\n",
       "        [134.15463918,  24.74020619,  10.10515464]]))"
      ]
     },
     "execution_count": 73,
     "metadata": {},
     "output_type": "execute_result"
    }
   ],
   "source": [
    "stats.chi2_contingency(voted)"
   ]
  },
  {
   "cell_type": "markdown",
   "metadata": {},
   "source": [
    "Registered and under 25"
   ]
  },
  {
   "cell_type": "code",
   "execution_count": 86,
   "metadata": {},
   "outputs": [
    {
     "data": {
      "text/plain": [
       "array([[41,  8,  1],\n",
       "       [30, 13,  6],\n",
       "       [33,  8,  1]])"
      ]
     },
     "execution_count": 86,
     "metadata": {},
     "output_type": "execute_result"
    }
   ],
   "source": [
    "registered = df[df['Are you a registered voter?']=='Yes']\n",
    "registered = registered[registered['How old are you in years?']<=25.0]\n",
    "conditions = registered.groupby('Condition')['Do you intend to vote in the midterm elections on November 6, 2018?'].value_counts()\n",
    "voted = np.array([conditions[1].values, conditions[2].values, conditions[3].values])\n",
    "voted"
   ]
  },
  {
   "cell_type": "code",
   "execution_count": 87,
   "metadata": {},
   "outputs": [
    {
     "data": {
      "text/plain": [
       "(8.7586190656634,\n",
       " 0.06742431924286127,\n",
       " 4,\n",
       " array([[36.87943262, 10.28368794,  2.83687943],\n",
       "        [36.14184397, 10.07801418,  2.78014184],\n",
       "        [30.9787234 ,  8.63829787,  2.38297872]]))"
      ]
     },
     "execution_count": 87,
     "metadata": {},
     "output_type": "execute_result"
    }
   ],
   "source": [
    "stats.chi2_contingency(voted)"
   ]
  },
  {
   "cell_type": "code",
   "execution_count": null,
   "metadata": {},
   "outputs": [],
   "source": []
  }
 ],
 "metadata": {
  "kernelspec": {
   "display_name": "Python 3",
   "language": "python",
   "name": "python3"
  },
  "language_info": {
   "codemirror_mode": {
    "name": "ipython",
    "version": 3
   },
   "file_extension": ".py",
   "mimetype": "text/x-python",
   "name": "python",
   "nbconvert_exporter": "python",
   "pygments_lexer": "ipython3",
   "version": "3.7.3"
  }
 },
 "nbformat": 4,
 "nbformat_minor": 2
}
