{
 "cells": [
  {
   "cell_type": "code",
   "execution_count": 1,
   "metadata": {},
   "outputs": [],
   "source": [
    "import pandas as pd"
   ]
  },
  {
   "cell_type": "code",
   "execution_count": 2,
   "metadata": {},
   "outputs": [],
   "source": [
    "pd.set_option('display.max_columns', 500)"
   ]
  },
  {
   "cell_type": "code",
   "execution_count": 3,
   "metadata": {},
   "outputs": [],
   "source": [
    "df = pd.read_csv('proof.csv', header=[1], skiprows=[2])"
   ]
  },
  {
   "cell_type": "code",
   "execution_count": null,
   "metadata": {},
   "outputs": [],
   "source": []
  },
  {
   "cell_type": "code",
   "execution_count": 6,
   "metadata": {},
   "outputs": [],
   "source": [
    "df = df.loc[:,'How old are you in years?': 'Condition']"
   ]
  },
  {
   "cell_type": "code",
   "execution_count": 7,
   "metadata": {},
   "outputs": [
    {
     "data": {
      "text/plain": [
       "603"
      ]
     },
     "execution_count": 7,
     "metadata": {},
     "output_type": "execute_result"
    }
   ],
   "source": [
    "len(df)"
   ]
  },
  {
   "cell_type": "code",
   "execution_count": 8,
   "metadata": {},
   "outputs": [
    {
     "data": {
      "text/html": [
       "<div>\n",
       "<style scoped>\n",
       "    .dataframe tbody tr th:only-of-type {\n",
       "        vertical-align: middle;\n",
       "    }\n",
       "\n",
       "    .dataframe tbody tr th {\n",
       "        vertical-align: top;\n",
       "    }\n",
       "\n",
       "    .dataframe thead th {\n",
       "        text-align: right;\n",
       "    }\n",
       "</style>\n",
       "<table border=\"1\" class=\"dataframe\">\n",
       "  <thead>\n",
       "    <tr style=\"text-align: right;\">\n",
       "      <th></th>\n",
       "      <th>How old are you in years?</th>\n",
       "      <th>What is your gender? - Selected Choice</th>\n",
       "      <th>What is your gender? - Other - Please specify - Text</th>\n",
       "      <th>I identify my ethnicity as: - Selected Choice</th>\n",
       "      <th>I identify my ethnicity as: - Other - Please specify - Text</th>\n",
       "      <th>If someone offers you a drink, are you more likely to ask for:</th>\n",
       "      <th>Do you intend to vote in the midterm elections on November 6?</th>\n",
       "      <th>Did you vote in the 2016 presidential election?</th>\n",
       "      <th>Politically, do you:</th>\n",
       "      <th>Are you a registered voter?</th>\n",
       "      <th>Condition</th>\n",
       "    </tr>\n",
       "  </thead>\n",
       "  <tbody>\n",
       "    <tr>\n",
       "      <th>0</th>\n",
       "      <td>29</td>\n",
       "      <td>Female</td>\n",
       "      <td>NaN</td>\n",
       "      <td>Caucasian</td>\n",
       "      <td>NaN</td>\n",
       "      <td>Water</td>\n",
       "      <td>Yes</td>\n",
       "      <td>Yes</td>\n",
       "      <td>Lean Democrat</td>\n",
       "      <td>Yes</td>\n",
       "      <td>1</td>\n",
       "    </tr>\n",
       "    <tr>\n",
       "      <th>1</th>\n",
       "      <td>30</td>\n",
       "      <td>Male</td>\n",
       "      <td>NaN</td>\n",
       "      <td>Asian</td>\n",
       "      <td>NaN</td>\n",
       "      <td>Water</td>\n",
       "      <td>Yes</td>\n",
       "      <td>Yes</td>\n",
       "      <td>Lean Democrat</td>\n",
       "      <td>Yes</td>\n",
       "      <td>5</td>\n",
       "    </tr>\n",
       "    <tr>\n",
       "      <th>2</th>\n",
       "      <td>34</td>\n",
       "      <td>Male</td>\n",
       "      <td>NaN</td>\n",
       "      <td>Caucasian</td>\n",
       "      <td>NaN</td>\n",
       "      <td>Water</td>\n",
       "      <td>Yes</td>\n",
       "      <td>Yes</td>\n",
       "      <td>Lean Republican</td>\n",
       "      <td>Yes</td>\n",
       "      <td>2</td>\n",
       "    </tr>\n",
       "    <tr>\n",
       "      <th>3</th>\n",
       "      <td>34</td>\n",
       "      <td>Male</td>\n",
       "      <td>NaN</td>\n",
       "      <td>Caucasian</td>\n",
       "      <td>NaN</td>\n",
       "      <td>Water</td>\n",
       "      <td>Maybe</td>\n",
       "      <td>No</td>\n",
       "      <td>Somewhere in-between</td>\n",
       "      <td>Yes</td>\n",
       "      <td>1</td>\n",
       "    </tr>\n",
       "    <tr>\n",
       "      <th>4</th>\n",
       "      <td>29</td>\n",
       "      <td>Male</td>\n",
       "      <td>NaN</td>\n",
       "      <td>Caucasian</td>\n",
       "      <td>NaN</td>\n",
       "      <td>Hoppy microbrew</td>\n",
       "      <td>Yes</td>\n",
       "      <td>Yes</td>\n",
       "      <td>Lean Democrat</td>\n",
       "      <td>Yes</td>\n",
       "      <td>2</td>\n",
       "    </tr>\n",
       "  </tbody>\n",
       "</table>\n",
       "</div>"
      ],
      "text/plain": [
       "   How old are you in years? What is your gender? - Selected Choice  \\\n",
       "0                         29                                 Female   \n",
       "1                         30                                   Male   \n",
       "2                         34                                   Male   \n",
       "3                         34                                   Male   \n",
       "4                         29                                   Male   \n",
       "\n",
       "   What is your gender? - Other - Please specify - Text  \\\n",
       "0                                                NaN      \n",
       "1                                                NaN      \n",
       "2                                                NaN      \n",
       "3                                                NaN      \n",
       "4                                                NaN      \n",
       "\n",
       "  I identify my ethnicity as: - Selected Choice  \\\n",
       "0                                     Caucasian   \n",
       "1                                         Asian   \n",
       "2                                     Caucasian   \n",
       "3                                     Caucasian   \n",
       "4                                     Caucasian   \n",
       "\n",
       "  I identify my ethnicity as: - Other - Please specify - Text  \\\n",
       "0                                                NaN            \n",
       "1                                                NaN            \n",
       "2                                                NaN            \n",
       "3                                                NaN            \n",
       "4                                                NaN            \n",
       "\n",
       "  If someone offers you a drink, are you more likely to ask for:  \\\n",
       "0                                              Water               \n",
       "1                                              Water               \n",
       "2                                              Water               \n",
       "3                                              Water               \n",
       "4                                    Hoppy microbrew               \n",
       "\n",
       "  Do you intend to vote in the midterm elections on November 6?  \\\n",
       "0                                                Yes              \n",
       "1                                                Yes              \n",
       "2                                                Yes              \n",
       "3                                              Maybe              \n",
       "4                                                Yes              \n",
       "\n",
       "  Did you vote in the 2016 presidential election?  Politically, do you:  \\\n",
       "0                                             Yes         Lean Democrat   \n",
       "1                                             Yes         Lean Democrat   \n",
       "2                                             Yes       Lean Republican   \n",
       "3                                              No  Somewhere in-between   \n",
       "4                                             Yes         Lean Democrat   \n",
       "\n",
       "  Are you a registered voter?  Condition  \n",
       "0                         Yes          1  \n",
       "1                         Yes          5  \n",
       "2                         Yes          2  \n",
       "3                         Yes          1  \n",
       "4                         Yes          2  "
      ]
     },
     "execution_count": 8,
     "metadata": {},
     "output_type": "execute_result"
    }
   ],
   "source": [
    "df.head()"
   ]
  },
  {
   "cell_type": "markdown",
   "metadata": {},
   "source": [
    "All Respondents"
   ]
  },
  {
   "cell_type": "code",
   "execution_count": 10,
   "metadata": {},
   "outputs": [],
   "source": [
    "conditions = df.groupby('Condition')['Do you intend to vote in the midterm elections on November 6?'].value_counts()"
   ]
  },
  {
   "cell_type": "code",
   "execution_count": 11,
   "metadata": {},
   "outputs": [
    {
     "data": {
      "text/plain": [
       "Condition  Do you intend to vote in the midterm elections on November 6?\n",
       "1          Yes                                                              90\n",
       "           Maybe                                                            22\n",
       "           No                                                                9\n",
       "2          Yes                                                              86\n",
       "           Maybe                                                            18\n",
       "           No                                                               17\n",
       "3          Yes                                                              93\n",
       "           Maybe                                                            15\n",
       "           No                                                               13\n",
       "4          Yes                                                              92\n",
       "           Maybe                                                            15\n",
       "           No                                                               13\n",
       "5          Yes                                                              86\n",
       "           Maybe                                                            22\n",
       "           No                                                               12\n",
       "Name: Do you intend to vote in the midterm elections on November 6?, dtype: int64"
      ]
     },
     "execution_count": 11,
     "metadata": {},
     "output_type": "execute_result"
    }
   ],
   "source": [
    "#1 = nelisha\n",
    "#2 = brandi\n",
    "#3 = matt\n",
    "#4 = anthony\n",
    "#5 = control\n",
    "conditions"
   ]
  },
  {
   "cell_type": "code",
   "execution_count": 12,
   "metadata": {},
   "outputs": [],
   "source": [
    "from scipy import stats\n",
    "import numpy as np"
   ]
  },
  {
   "cell_type": "code",
   "execution_count": 13,
   "metadata": {},
   "outputs": [],
   "source": [
    "voted = np.array([conditions[1].values, conditions[2].values, conditions[3].values, conditions[4].values, conditions[5].values])"
   ]
  },
  {
   "cell_type": "code",
   "execution_count": 14,
   "metadata": {},
   "outputs": [
    {
     "data": {
      "text/plain": [
       "array([[90, 22,  9],\n",
       "       [86, 18, 17],\n",
       "       [93, 15, 13],\n",
       "       [92, 15, 13],\n",
       "       [86, 22, 12]])"
      ]
     },
     "execution_count": 14,
     "metadata": {},
     "output_type": "execute_result"
    }
   ],
   "source": [
    "voted"
   ]
  },
  {
   "cell_type": "code",
   "execution_count": 15,
   "metadata": {},
   "outputs": [
    {
     "data": {
      "text/plain": [
       "(5.703971337053287,\n",
       " 0.6803519461606464,\n",
       " 8,\n",
       " array([[89.69651741, 18.46102819, 12.84245439],\n",
       "        [89.69651741, 18.46102819, 12.84245439],\n",
       "        [89.69651741, 18.46102819, 12.84245439],\n",
       "        [88.95522388, 18.30845771, 12.73631841],\n",
       "        [88.95522388, 18.30845771, 12.73631841]]))"
      ]
     },
     "execution_count": 15,
     "metadata": {},
     "output_type": "execute_result"
    }
   ],
   "source": [
    "stats.chi2_contingency(voted)"
   ]
  },
  {
   "cell_type": "markdown",
   "metadata": {},
   "source": [
    "34 and under"
   ]
  },
  {
   "cell_type": "code",
   "execution_count": 22,
   "metadata": {},
   "outputs": [],
   "source": [
    "under_34 = df[df['How old are you in years?']<=34.0]"
   ]
  },
  {
   "cell_type": "code",
   "execution_count": 23,
   "metadata": {},
   "outputs": [],
   "source": [
    "conditions = under_34.groupby('Condition')['Do you intend to vote in the midterm elections on November 6?'].value_counts()"
   ]
  },
  {
   "cell_type": "code",
   "execution_count": 24,
   "metadata": {},
   "outputs": [],
   "source": [
    "voted = np.array([conditions[1].values, conditions[2].values, conditions[3].values, conditions[4].values, conditions[5].values])"
   ]
  },
  {
   "cell_type": "code",
   "execution_count": 25,
   "metadata": {},
   "outputs": [
    {
     "data": {
      "text/plain": [
       "(8.364553281660275,\n",
       " 0.3986934159314701,\n",
       " 8,\n",
       " array([[44.        , 14.52      ,  7.48      ],\n",
       "        [36.66666667, 12.1       ,  6.23333333],\n",
       "        [38.66666667, 12.76      ,  6.57333333],\n",
       "        [41.33333333, 13.64      ,  7.02666667],\n",
       "        [39.33333333, 12.98      ,  6.68666667]]))"
      ]
     },
     "execution_count": 25,
     "metadata": {},
     "output_type": "execute_result"
    }
   ],
   "source": [
    "stats.chi2_contingency(voted)"
   ]
  },
  {
   "cell_type": "markdown",
   "metadata": {},
   "source": [
    "Registered Voters Only"
   ]
  },
  {
   "cell_type": "code",
   "execution_count": 41,
   "metadata": {},
   "outputs": [
    {
     "data": {
      "text/plain": [
       "array([[90, 20,  2],\n",
       "       [86, 14, 13],\n",
       "       [91, 11,  3],\n",
       "       [90, 12,  4],\n",
       "       [86, 18,  6]])"
      ]
     },
     "execution_count": 41,
     "metadata": {},
     "output_type": "execute_result"
    }
   ],
   "source": [
    "registered = df[df['Are you a registered voter?']=='Yes']\n",
    "conditions = registered.groupby('Condition')['Do you intend to vote in the midterm elections on November 6?'].value_counts()\n",
    "voted = np.array([conditions[1].values, conditions[2].values, conditions[3].values, conditions[4].values, conditions[5].values])\n",
    "voted"
   ]
  },
  {
   "cell_type": "code",
   "execution_count": 42,
   "metadata": {},
   "outputs": [
    {
     "data": {
      "text/plain": [
       "(17.26664238996481,\n",
       " 0.027449262096606912,\n",
       " 8,\n",
       " array([[90.87179487, 15.38461538,  5.74358974],\n",
       "        [91.68315018, 15.52197802,  5.79487179],\n",
       "        [85.19230769, 14.42307692,  5.38461538],\n",
       "        [86.003663  , 14.56043956,  5.43589744],\n",
       "        [89.24908425, 15.10989011,  5.64102564]]))"
      ]
     },
     "execution_count": 42,
     "metadata": {},
     "output_type": "execute_result"
    }
   ],
   "source": [
    "stats.chi2_contingency(voted)"
   ]
  },
  {
   "cell_type": "code",
   "execution_count": 46,
   "metadata": {},
   "outputs": [],
   "source": [
    "registered = df[df['Are you a registered voter?']=='Yes']"
   ]
  },
  {
   "cell_type": "code",
   "execution_count": 49,
   "metadata": {},
   "outputs": [],
   "source": [
    "registered_ct = pd.crosstab(index=registered['Do you intend to vote in the midterm elections on November 6?'],\n",
    "           columns=registered['Condition'])"
   ]
  },
  {
   "cell_type": "code",
   "execution_count": 50,
   "metadata": {},
   "outputs": [
    {
     "data": {
      "text/html": [
       "<div>\n",
       "<style scoped>\n",
       "    .dataframe tbody tr th:only-of-type {\n",
       "        vertical-align: middle;\n",
       "    }\n",
       "\n",
       "    .dataframe tbody tr th {\n",
       "        vertical-align: top;\n",
       "    }\n",
       "\n",
       "    .dataframe thead th {\n",
       "        text-align: right;\n",
       "    }\n",
       "</style>\n",
       "<table border=\"1\" class=\"dataframe\">\n",
       "  <thead>\n",
       "    <tr style=\"text-align: right;\">\n",
       "      <th>Condition</th>\n",
       "      <th>1</th>\n",
       "      <th>2</th>\n",
       "      <th>3</th>\n",
       "      <th>4</th>\n",
       "      <th>5</th>\n",
       "    </tr>\n",
       "    <tr>\n",
       "      <th>Do you intend to vote in the midterm elections on November 6?</th>\n",
       "      <th></th>\n",
       "      <th></th>\n",
       "      <th></th>\n",
       "      <th></th>\n",
       "      <th></th>\n",
       "    </tr>\n",
       "  </thead>\n",
       "  <tbody>\n",
       "    <tr>\n",
       "      <th>Maybe</th>\n",
       "      <td>20</td>\n",
       "      <td>14</td>\n",
       "      <td>11</td>\n",
       "      <td>12</td>\n",
       "      <td>18</td>\n",
       "    </tr>\n",
       "    <tr>\n",
       "      <th>No</th>\n",
       "      <td>2</td>\n",
       "      <td>13</td>\n",
       "      <td>3</td>\n",
       "      <td>4</td>\n",
       "      <td>6</td>\n",
       "    </tr>\n",
       "    <tr>\n",
       "      <th>Yes</th>\n",
       "      <td>90</td>\n",
       "      <td>86</td>\n",
       "      <td>91</td>\n",
       "      <td>90</td>\n",
       "      <td>86</td>\n",
       "    </tr>\n",
       "  </tbody>\n",
       "</table>\n",
       "</div>"
      ],
      "text/plain": [
       "Condition                                            1   2   3   4   5\n",
       "Do you intend to vote in the midterm elections ...                    \n",
       "Maybe                                               20  14  11  12  18\n",
       "No                                                   2  13   3   4   6\n",
       "Yes                                                 90  86  91  90  86"
      ]
     },
     "execution_count": 50,
     "metadata": {},
     "output_type": "execute_result"
    }
   ],
   "source": [
    "registered_ct"
   ]
  },
  {
   "cell_type": "code",
   "execution_count": 52,
   "metadata": {},
   "outputs": [],
   "source": [
    "registered_ct.index = ['Maybe', 'No', 'Yes']"
   ]
  },
  {
   "cell_type": "code",
   "execution_count": null,
   "metadata": {},
   "outputs": [],
   "source": []
  },
  {
   "cell_type": "code",
   "execution_count": 54,
   "metadata": {},
   "outputs": [
    {
     "data": {
      "text/plain": [
       "(17.26664238996481,\n",
       " 0.027449262096606912,\n",
       " 8,\n",
       " array([[15.38461538, 15.52197802, 14.42307692, 14.56043956, 15.10989011],\n",
       "        [ 5.74358974,  5.79487179,  5.38461538,  5.43589744,  5.64102564],\n",
       "        [90.87179487, 91.68315018, 85.19230769, 86.003663  , 89.24908425]]))"
      ]
     },
     "execution_count": 54,
     "metadata": {},
     "output_type": "execute_result"
    }
   ],
   "source": [
    "stats.chi2_contingency(registered_ct)"
   ]
  },
  {
   "cell_type": "code",
   "execution_count": 56,
   "metadata": {},
   "outputs": [],
   "source": [
    "import researchpy as rp"
   ]
  },
  {
   "cell_type": "code",
   "execution_count": 57,
   "metadata": {},
   "outputs": [],
   "source": [
    "table, results = rp.crosstab(registered['Do you intend to vote in the midterm elections on November 6?'],\n",
    "                            registered['Condition'], prop='col', test='chi-square')"
   ]
  },
  {
   "cell_type": "code",
   "execution_count": 59,
   "metadata": {},
   "outputs": [
    {
     "data": {
      "text/html": [
       "<div>\n",
       "<style scoped>\n",
       "    .dataframe tbody tr th:only-of-type {\n",
       "        vertical-align: middle;\n",
       "    }\n",
       "\n",
       "    .dataframe tbody tr th {\n",
       "        vertical-align: top;\n",
       "    }\n",
       "\n",
       "    .dataframe thead tr th {\n",
       "        text-align: left;\n",
       "    }\n",
       "\n",
       "    .dataframe thead tr:last-of-type th {\n",
       "        text-align: right;\n",
       "    }\n",
       "</style>\n",
       "<table border=\"1\" class=\"dataframe\">\n",
       "  <thead>\n",
       "    <tr>\n",
       "      <th></th>\n",
       "      <th colspan=\"6\" halign=\"left\">Condition</th>\n",
       "    </tr>\n",
       "    <tr>\n",
       "      <th></th>\n",
       "      <th>1</th>\n",
       "      <th>2</th>\n",
       "      <th>3</th>\n",
       "      <th>4</th>\n",
       "      <th>5</th>\n",
       "      <th>All</th>\n",
       "    </tr>\n",
       "    <tr>\n",
       "      <th>Do you intend to vote in the midterm elections on November 6?</th>\n",
       "      <th></th>\n",
       "      <th></th>\n",
       "      <th></th>\n",
       "      <th></th>\n",
       "      <th></th>\n",
       "      <th></th>\n",
       "    </tr>\n",
       "  </thead>\n",
       "  <tbody>\n",
       "    <tr>\n",
       "      <th>Maybe</th>\n",
       "      <td>17.86</td>\n",
       "      <td>12.39</td>\n",
       "      <td>10.48</td>\n",
       "      <td>11.32</td>\n",
       "      <td>16.36</td>\n",
       "      <td>13.74</td>\n",
       "    </tr>\n",
       "    <tr>\n",
       "      <th>No</th>\n",
       "      <td>1.79</td>\n",
       "      <td>11.50</td>\n",
       "      <td>2.86</td>\n",
       "      <td>3.77</td>\n",
       "      <td>5.45</td>\n",
       "      <td>5.13</td>\n",
       "    </tr>\n",
       "    <tr>\n",
       "      <th>Yes</th>\n",
       "      <td>80.36</td>\n",
       "      <td>76.11</td>\n",
       "      <td>86.67</td>\n",
       "      <td>84.91</td>\n",
       "      <td>78.18</td>\n",
       "      <td>81.14</td>\n",
       "    </tr>\n",
       "    <tr>\n",
       "      <th>All</th>\n",
       "      <td>100.00</td>\n",
       "      <td>100.00</td>\n",
       "      <td>100.00</td>\n",
       "      <td>100.00</td>\n",
       "      <td>100.00</td>\n",
       "      <td>100.00</td>\n",
       "    </tr>\n",
       "  </tbody>\n",
       "</table>\n",
       "</div>"
      ],
      "text/plain": [
       "                                                   Condition                  \\\n",
       "                                                           1       2       3   \n",
       "Do you intend to vote in the midterm elections ...                             \n",
       "Maybe                                                  17.86   12.39   10.48   \n",
       "No                                                      1.79   11.50    2.86   \n",
       "Yes                                                    80.36   76.11   86.67   \n",
       "All                                                   100.00  100.00  100.00   \n",
       "\n",
       "                                                                            \n",
       "                                                         4       5     All  \n",
       "Do you intend to vote in the midterm elections ...                          \n",
       "Maybe                                                11.32   16.36   13.74  \n",
       "No                                                    3.77    5.45    5.13  \n",
       "Yes                                                  84.91   78.18   81.14  \n",
       "All                                                 100.00  100.00  100.00  "
      ]
     },
     "execution_count": 59,
     "metadata": {},
     "output_type": "execute_result"
    }
   ],
   "source": [
    "table"
   ]
  },
  {
   "cell_type": "code",
   "execution_count": 60,
   "metadata": {},
   "outputs": [
    {
     "data": {
      "text/html": [
       "<div>\n",
       "<style scoped>\n",
       "    .dataframe tbody tr th:only-of-type {\n",
       "        vertical-align: middle;\n",
       "    }\n",
       "\n",
       "    .dataframe tbody tr th {\n",
       "        vertical-align: top;\n",
       "    }\n",
       "\n",
       "    .dataframe thead th {\n",
       "        text-align: right;\n",
       "    }\n",
       "</style>\n",
       "<table border=\"1\" class=\"dataframe\">\n",
       "  <thead>\n",
       "    <tr style=\"text-align: right;\">\n",
       "      <th></th>\n",
       "      <th>Chi-square test</th>\n",
       "      <th>results</th>\n",
       "    </tr>\n",
       "  </thead>\n",
       "  <tbody>\n",
       "    <tr>\n",
       "      <th>0</th>\n",
       "      <td>Pearson Chi-square ( 8.0) =</td>\n",
       "      <td>17.2666</td>\n",
       "    </tr>\n",
       "    <tr>\n",
       "      <th>1</th>\n",
       "      <td>p-value =</td>\n",
       "      <td>0.0274</td>\n",
       "    </tr>\n",
       "    <tr>\n",
       "      <th>2</th>\n",
       "      <td>Cramer's V =</td>\n",
       "      <td>0.1257</td>\n",
       "    </tr>\n",
       "  </tbody>\n",
       "</table>\n",
       "</div>"
      ],
      "text/plain": [
       "                Chi-square test  results\n",
       "0  Pearson Chi-square ( 8.0) =   17.2666\n",
       "1                    p-value =    0.0274\n",
       "2                 Cramer's V =    0.1257"
      ]
     },
     "execution_count": 60,
     "metadata": {},
     "output_type": "execute_result"
    }
   ],
   "source": [
    "results"
   ]
  },
  {
   "cell_type": "code",
   "execution_count": null,
   "metadata": {},
   "outputs": [],
   "source": []
  }
 ],
 "metadata": {
  "kernelspec": {
   "display_name": "Python 3",
   "language": "python",
   "name": "python3"
  },
  "language_info": {
   "codemirror_mode": {
    "name": "ipython",
    "version": 3
   },
   "file_extension": ".py",
   "mimetype": "text/x-python",
   "name": "python",
   "nbconvert_exporter": "python",
   "pygments_lexer": "ipython3",
   "version": "3.7.3"
  }
 },
 "nbformat": 4,
 "nbformat_minor": 2
}
